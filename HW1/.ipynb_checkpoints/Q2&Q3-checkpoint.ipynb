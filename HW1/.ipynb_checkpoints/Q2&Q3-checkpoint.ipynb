{
 "cells": [
  {
   "cell_type": "code",
   "execution_count": 17,
   "metadata": {},
   "outputs": [],
   "source": [
    "import numpy as np\n",
    "from cvxopt import matrix\n",
    "from cvxopt.solvers import qp\n",
    "from sklearn.preprocessing import PolynomialFeatures"
   ]
  },
  {
   "cell_type": "code",
   "execution_count": 18,
   "metadata": {},
   "outputs": [],
   "source": [
    "poly = PolynomialFeatures(interaction_only=False)\n"
   ]
  },
  {
   "cell_type": "code",
   "execution_count": 29,
   "metadata": {},
   "outputs": [
    {
     "name": "stdout",
     "output_type": "stream",
     "text": [
      "[[ 1.  1.  0.  1.  0.  0.]\n",
      " [ 1.  0.  1.  0.  0.  1.]\n",
      " [ 1.  0. -1.  0. -0.  1.]\n",
      " [ 1. -1.  0.  1. -0.  0.]\n",
      " [ 1.  0.  2.  0.  0.  4.]\n",
      " [ 1.  0. -2.  0. -0.  4.]\n",
      " [ 1. -2.  0.  4. -0.  0.]]\n"
     ]
    }
   ],
   "source": [
    "X = np.array([[1, 0], [0, 1], [0, -1], [-1, 0], [0, 2], [0, -2], [-2, 0]])\n",
    "Y = np.array([-1, -1, -1, 1, 1, 1, 1])\n",
    "Xt=poly.fit_transform(X)\n",
    "print(Xt)"
   ]
  },
  {
   "cell_type": "code",
   "execution_count": 20,
   "metadata": {},
   "outputs": [],
   "source": [
    "A = matrix(Y,(1,7),'d')\n",
    "b =matrix(0,(1,1),'d')\n",
    "h = matrix(0,(7,1),'d')\n",
    "G = matrix(-np.eye(7),(7,7),'d')\n",
    "p = matrix(-1,(7,1),'d')\n",
    "XX = Xt@Xt.T\n",
    "YY = Y.reshape(7,1)@Y.reshape(1,7)\n",
    "Q = matrix(XX*YY,(7,7),'d')"
   ]
  },
  {
   "cell_type": "code",
   "execution_count": 21,
   "metadata": {},
   "outputs": [
    {
     "name": "stdout",
     "output_type": "stream",
     "text": [
      "     pcost       dcost       gap    pres   dres\n",
      " 0: -2.1712e+00 -5.0654e+00  2e+01  3e+00  2e+00\n",
      " 1: -3.8978e+00 -5.7620e+00  6e+00  1e+00  7e-01\n",
      " 2: -1.7493e+00 -2.7818e+00  1e+00  5e-16  6e-15\n",
      " 3: -1.9825e+00 -2.0130e+00  3e-02  4e-16  1e-15\n",
      " 4: -1.9997e+00 -2.0001e+00  4e-04  7e-16  2e-15\n",
      " 5: -2.0000e+00 -2.0000e+00  4e-06  3e-16  1e-15\n",
      " 6: -2.0000e+00 -2.0000e+00  4e-08  3e-16  1e-15\n",
      "Optimal solution found.\n"
     ]
    }
   ],
   "source": [
    "sol=qp(Q,p,G, h,A,b)"
   ]
  },
  {
   "cell_type": "code",
   "execution_count": 25,
   "metadata": {},
   "outputs": [
    {
     "name": "stdout",
     "output_type": "stream",
     "text": [
      "[[3.75668650e-08]\n",
      " [9.99999978e-01]\n",
      " [9.99999977e-01]\n",
      " [1.33333334e+00]\n",
      " [3.33333329e-01]\n",
      " [3.33333328e-01]\n",
      " [5.23032669e-10]]\n"
     ]
    }
   ],
   "source": [
    "alpha = np.array(sol['x'])\n",
    "print(alpha)"
   ]
  },
  {
   "cell_type": "markdown",
   "metadata": {},
   "source": [
    "Q2:\n",
    "由上可知道2,3,4,5,6為support vectores\n"
   ]
  },
  {
   "cell_type": "code",
   "execution_count": 59,
   "metadata": {},
   "outputs": [],
   "source": [
    "SV = [[0, 1], [0, -1], [-1, 0], [0, 2], [0, -2]]"
   ]
  },
  {
   "cell_type": "code",
   "execution_count": 30,
   "metadata": {},
   "outputs": [
    {
     "name": "stdout",
     "output_type": "stream",
     "text": [
      "[ 5.18168890e-17 -1.33333337e+00 -2.22044605e-16  1.33333330e+00\n",
      "  0.00000000e+00  6.66666670e-01]\n"
     ]
    }
   ],
   "source": [
    "w = 0\n",
    "for i in range(len(alpha)):\n",
    "    w = w +Xt[i]*alpha[i]*Y[i]\n",
    "print(w)"
   ]
  },
  {
   "cell_type": "code",
   "execution_count": 58,
   "metadata": {},
   "outputs": [
    {
     "name": "stdout",
     "output_type": "stream",
     "text": [
      "-1.6666666700348152\n"
     ]
    }
   ],
   "source": [
    "b=Y[1] -Xt[1]@w\n",
    "print(b)"
   ]
  },
  {
   "cell_type": "markdown",
   "metadata": {},
   "source": [
    "Q3:\n",
    "由上可知 $-4x_1+4x_1^2+2x_2^2=5$ 是linear curve\n",
    "\n"
   ]
  },
  {
   "cell_type": "markdown",
   "metadata": {},
   "source": [
    "Q4: the kernel in question 2 and 4 are different space, so they cannot be the same. (one's dimmension is 2, the other is 6)"
   ]
  }
 ],
 "metadata": {
  "kernelspec": {
   "display_name": "Python 3",
   "language": "python",
   "name": "python3"
  },
  "language_info": {
   "codemirror_mode": {
    "name": "ipython",
    "version": 3
   },
   "file_extension": ".py",
   "mimetype": "text/x-python",
   "name": "python",
   "nbconvert_exporter": "python",
   "pygments_lexer": "ipython3",
   "version": "3.6.6"
  }
 },
 "nbformat": 4,
 "nbformat_minor": 2
}
