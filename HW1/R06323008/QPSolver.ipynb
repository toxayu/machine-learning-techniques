{
 "cells": [
  {
   "cell_type": "code",
   "execution_count": 123,
   "metadata": {},
   "outputs": [],
   "source": [
    "from math import sqrt\n",
    "import numpy as np\n",
    "import pandas as pd\n",
    "from cvxopt import matrix\n",
    "from cvxopt.blas import dot\n",
    "from cvxopt.solvers import qp\n",
    "from sklearn.preprocessing import PolynomialFeatures\n",
    "from sklearn import svm"
   ]
  },
  {
   "cell_type": "code",
   "execution_count": 98,
   "metadata": {},
   "outputs": [
    {
     "data": {
      "text/plain": [
       "(7, 2)"
      ]
     },
     "execution_count": 98,
     "metadata": {},
     "output_type": "execute_result"
    }
   ],
   "source": [
    "\n",
    "\n",
    "poly = PolynomialFeatures(interaction_only=False)\n",
    "X.shape"
   ]
  },
  {
   "cell_type": "code",
   "execution_count": 99,
   "metadata": {},
   "outputs": [],
   "source": [
    "Xt=poly.fit_transform(X)"
   ]
  },
  {
   "cell_type": "code",
   "execution_count": 100,
   "metadata": {},
   "outputs": [
    {
     "data": {
      "text/plain": [
       "array([[ 1.,  1.,  0.,  1.,  0.,  0.],\n",
       "       [ 1.,  0.,  1.,  0.,  0.,  1.],\n",
       "       [ 1.,  0., -1.,  0., -0.,  1.],\n",
       "       [ 1., -1.,  0.,  1., -0.,  0.],\n",
       "       [ 1.,  0.,  2.,  0.,  0.,  4.],\n",
       "       [ 1.,  0., -2.,  0., -0.,  4.],\n",
       "       [ 1., -2.,  0.,  4., -0.,  0.]])"
      ]
     },
     "execution_count": 100,
     "metadata": {},
     "output_type": "execute_result"
    }
   ],
   "source": [
    "X = np.array([[1, 0], [0, 1], [0, -1], [-1, 0], [0, 2], [0, -2], [-2, 0]])\n",
    "Y = np.array([-1, -1, -1, 1, 1, 1, 1])\n",
    "\n",
    "Xt"
   ]
  },
  {
   "cell_type": "code",
   "execution_count": 101,
   "metadata": {},
   "outputs": [
    {
     "data": {
      "text/plain": [
       "array([[ 3.,  1.,  1.,  1.,  1.,  1.,  3.],\n",
       "       [ 1.,  3.,  1.,  1.,  7.,  3.,  1.],\n",
       "       [ 1.,  1.,  3.,  1.,  3.,  7.,  1.],\n",
       "       [ 1.,  1.,  1.,  3.,  1.,  1.,  7.],\n",
       "       [ 1.,  7.,  3.,  1., 21., 13.,  1.],\n",
       "       [ 1.,  3.,  7.,  1., 13., 21.,  1.],\n",
       "       [ 3.,  1.,  1.,  7.,  1.,  1., 21.]])"
      ]
     },
     "execution_count": 101,
     "metadata": {},
     "output_type": "execute_result"
    }
   ],
   "source": [
    "Xt2 = Xt@Xt.T\n",
    "Xt2"
   ]
  },
  {
   "cell_type": "code",
   "execution_count": null,
   "metadata": {},
   "outputs": [],
   "source": []
  },
  {
   "cell_type": "code",
   "execution_count": 102,
   "metadata": {},
   "outputs": [
    {
     "name": "stdout",
     "output_type": "stream",
     "text": [
      "[-1.00e+00 -1.00e+00 -1.00e+00  1.00e+00  1.00e+00  1.00e+00  1.00e+00]\n",
      "\n"
     ]
    }
   ],
   "source": [
    "A = matrix(Y,(1,7),'d')\n",
    "print(A)"
   ]
  },
  {
   "cell_type": "code",
   "execution_count": 103,
   "metadata": {},
   "outputs": [
    {
     "name": "stdout",
     "output_type": "stream",
     "text": [
      "[ 0.00e+00]\n",
      "\n"
     ]
    }
   ],
   "source": [
    "b =matrix(0,(1,1),'d')\n",
    "print(b)"
   ]
  },
  {
   "cell_type": "code",
   "execution_count": 104,
   "metadata": {},
   "outputs": [
    {
     "name": "stdout",
     "output_type": "stream",
     "text": [
      "[ 0.00e+00]\n",
      "[ 0.00e+00]\n",
      "[ 0.00e+00]\n",
      "[ 0.00e+00]\n",
      "[ 0.00e+00]\n",
      "[ 0.00e+00]\n",
      "[ 0.00e+00]\n",
      "\n"
     ]
    }
   ],
   "source": [
    "h = matrix(0,(7,1),'d')\n",
    "print(h)"
   ]
  },
  {
   "cell_type": "code",
   "execution_count": 105,
   "metadata": {},
   "outputs": [
    {
     "name": "stdout",
     "output_type": "stream",
     "text": [
      "[-1.00e+00 -0.00e+00 -0.00e+00 -0.00e+00 -0.00e+00 -0.00e+00 -0.00e+00]\n",
      "[-0.00e+00 -1.00e+00 -0.00e+00 -0.00e+00 -0.00e+00 -0.00e+00 -0.00e+00]\n",
      "[-0.00e+00 -0.00e+00 -1.00e+00 -0.00e+00 -0.00e+00 -0.00e+00 -0.00e+00]\n",
      "[-0.00e+00 -0.00e+00 -0.00e+00 -1.00e+00 -0.00e+00 -0.00e+00 -0.00e+00]\n",
      "[-0.00e+00 -0.00e+00 -0.00e+00 -0.00e+00 -1.00e+00 -0.00e+00 -0.00e+00]\n",
      "[-0.00e+00 -0.00e+00 -0.00e+00 -0.00e+00 -0.00e+00 -1.00e+00 -0.00e+00]\n",
      "[-0.00e+00 -0.00e+00 -0.00e+00 -0.00e+00 -0.00e+00 -0.00e+00 -1.00e+00]\n",
      "\n"
     ]
    }
   ],
   "source": [
    "#G = matrix(np.vstack([np.eye(7), Y,-Y]),(9,7),'d')#\n",
    "G = matrix(-np.eye(7),(7,7),'d')\n",
    "print(G)"
   ]
  },
  {
   "cell_type": "code",
   "execution_count": 106,
   "metadata": {},
   "outputs": [
    {
     "name": "stdout",
     "output_type": "stream",
     "text": [
      "[-1.00e+00]\n",
      "[-1.00e+00]\n",
      "[-1.00e+00]\n",
      "[-1.00e+00]\n",
      "[-1.00e+00]\n",
      "[-1.00e+00]\n",
      "[-1.00e+00]\n",
      "\n"
     ]
    }
   ],
   "source": [
    "p = matrix(-1,(7,1),'d')\n",
    "print(p)"
   ]
  },
  {
   "cell_type": "code",
   "execution_count": null,
   "metadata": {},
   "outputs": [],
   "source": []
  },
  {
   "cell_type": "code",
   "execution_count": null,
   "metadata": {},
   "outputs": [],
   "source": []
  },
  {
   "cell_type": "code",
   "execution_count": 107,
   "metadata": {},
   "outputs": [
    {
     "data": {
      "text/plain": [
       "array([[ 1,  1,  1, -1, -1, -1, -1],\n",
       "       [ 1,  1,  1, -1, -1, -1, -1],\n",
       "       [ 1,  1,  1, -1, -1, -1, -1],\n",
       "       [-1, -1, -1,  1,  1,  1,  1],\n",
       "       [-1, -1, -1,  1,  1,  1,  1],\n",
       "       [-1, -1, -1,  1,  1,  1,  1],\n",
       "       [-1, -1, -1,  1,  1,  1,  1]])"
      ]
     },
     "execution_count": 107,
     "metadata": {},
     "output_type": "execute_result"
    }
   ],
   "source": [
    "YY = Y.reshape(7,1)@Y.reshape(1,7)\n",
    "YY"
   ]
  },
  {
   "cell_type": "code",
   "execution_count": 108,
   "metadata": {},
   "outputs": [
    {
     "data": {
      "text/plain": [
       "array([[ 3.,  1.,  1.,  1.,  1.,  1.,  3.],\n",
       "       [ 1.,  3.,  1.,  1.,  7.,  3.,  1.],\n",
       "       [ 1.,  1.,  3.,  1.,  3.,  7.,  1.],\n",
       "       [ 1.,  1.,  1.,  3.,  1.,  1.,  7.],\n",
       "       [ 1.,  7.,  3.,  1., 21., 13.,  1.],\n",
       "       [ 1.,  3.,  7.,  1., 13., 21.,  1.],\n",
       "       [ 3.,  1.,  1.,  7.,  1.,  1., 21.]])"
      ]
     },
     "execution_count": 108,
     "metadata": {},
     "output_type": "execute_result"
    }
   ],
   "source": [
    "XX = Xt2\n",
    "XX"
   ]
  },
  {
   "cell_type": "code",
   "execution_count": 109,
   "metadata": {},
   "outputs": [
    {
     "name": "stdout",
     "output_type": "stream",
     "text": [
      "[ 3.00e+00  1.00e+00  1.00e+00 -1.00e+00 -1.00e+00 -1.00e+00 -3.00e+00]\n",
      "[ 1.00e+00  3.00e+00  1.00e+00 -1.00e+00 -7.00e+00 -3.00e+00 -1.00e+00]\n",
      "[ 1.00e+00  1.00e+00  3.00e+00 -1.00e+00 -3.00e+00 -7.00e+00 -1.00e+00]\n",
      "[-1.00e+00 -1.00e+00 -1.00e+00  3.00e+00  1.00e+00  1.00e+00  7.00e+00]\n",
      "[-1.00e+00 -7.00e+00 -3.00e+00  1.00e+00  2.10e+01  1.30e+01  1.00e+00]\n",
      "[-1.00e+00 -3.00e+00 -7.00e+00  1.00e+00  1.30e+01  2.10e+01  1.00e+00]\n",
      "[-3.00e+00 -1.00e+00 -1.00e+00  7.00e+00  1.00e+00  1.00e+00  2.10e+01]\n",
      "\n"
     ]
    }
   ],
   "source": [
    "QQ=(XX*YY).astype(float)\n",
    "\n",
    "\n",
    "\n",
    "\n",
    "Q1 = matrix(QQ,(7,7),'d')\n",
    "print(Q1)"
   ]
  },
  {
   "cell_type": "code",
   "execution_count": 110,
   "metadata": {},
   "outputs": [
    {
     "name": "stdout",
     "output_type": "stream",
     "text": [
      "     pcost       dcost       gap    pres   dres\n",
      " 0: -2.1712e+00 -5.0654e+00  2e+01  3e+00  2e+00\n",
      " 1: -3.8978e+00 -5.7620e+00  6e+00  1e+00  7e-01\n",
      " 2: -1.7493e+00 -2.7818e+00  1e+00  5e-16  6e-15\n",
      " 3: -1.9825e+00 -2.0130e+00  3e-02  4e-16  1e-15\n",
      " 4: -1.9997e+00 -2.0001e+00  4e-04  7e-16  2e-15\n",
      " 5: -2.0000e+00 -2.0000e+00  4e-06  3e-16  1e-15\n",
      " 6: -2.0000e+00 -2.0000e+00  4e-08  3e-16  1e-15\n",
      "Optimal solution found.\n"
     ]
    }
   ],
   "source": [
    "sol=qp(Q1,p,G, h,A,b)"
   ]
  },
  {
   "cell_type": "code",
   "execution_count": 111,
   "metadata": {
    "scrolled": true
   },
   "outputs": [
    {
     "data": {
      "text/plain": [
       "[-3.7566864974734134e-08,\n",
       " -0.9999999782848092,\n",
       " -0.9999999766266618,\n",
       " 1.3333333357187318,\n",
       " 0.3333333285328226,\n",
       " 0.333333327703749,\n",
       " 5.230326690336455e-10]"
      ]
     },
     "execution_count": 111,
     "metadata": {},
     "output_type": "execute_result"
    }
   ],
   "source": [
    "alpha=np.array(sol['x'])\n",
    "ay = alpha*(Y.reshape(7,1))\n",
    "a = [i[0] for i in ay]\n",
    "a"
   ]
  },
  {
   "cell_type": "code",
   "execution_count": 113,
   "metadata": {},
   "outputs": [
    {
     "data": {
      "text/plain": [
       "array([ 5.18168890e-17, -1.33333337e+00, -2.22044605e-16,  1.33333330e+00,\n",
       "        0.00000000e+00,  6.66666670e-01])"
      ]
     },
     "execution_count": 113,
     "metadata": {},
     "output_type": "execute_result"
    }
   ],
   "source": [
    "w = 0\n",
    "for i in range(len(a)):\n",
    "\n",
    "    w = w +Xt[i]*a[i]\n",
    "w"
   ]
  },
  {
   "cell_type": "code",
   "execution_count": 114,
   "metadata": {},
   "outputs": [
    {
     "data": {
      "text/plain": [
       "-1.6666666700348152"
      ]
     },
     "execution_count": 114,
     "metadata": {},
     "output_type": "execute_result"
    }
   ],
   "source": [
    "Y[1] -Xt[1]@w"
   ]
  },
  {
   "cell_type": "code",
   "execution_count": 92,
   "metadata": {},
   "outputs": [
    {
     "data": {
      "text/plain": [
       "array([1., 0., 1., 0., 0., 1.])"
      ]
     },
     "execution_count": 92,
     "metadata": {},
     "output_type": "execute_result"
    }
   ],
   "source": []
  },
  {
   "cell_type": "code",
   "execution_count": 147,
   "metadata": {},
   "outputs": [],
   "source": [
    "from svm import*"
   ]
  },
  {
   "cell_type": "code",
   "execution_count": 148,
   "metadata": {},
   "outputs": [],
   "source": [
    "from svmutil import *"
   ]
  },
  {
   "cell_type": "code",
   "execution_count": null,
   "metadata": {},
   "outputs": [],
   "source": []
  },
  {
   "cell_type": "code",
   "execution_count": 149,
   "metadata": {},
   "outputs": [
    {
     "name": "stdout",
     "output_type": "stream",
     "text": [
      "Accuracy = 100% (1/1) (classification)\n"
     ]
    },
    {
     "data": {
      "text/plain": [
       "([1.0], (100.0, 0.0, nan), [[1.0]])"
      ]
     },
     "execution_count": 149,
     "metadata": {},
     "output_type": "execute_result"
    }
   ],
   "source": [
    "\n",
    "\n",
    "prob = svm_problem([1,-1],[[1,0,1],[-1,0,-1]])#两个参数，第一个参数是分类的类型，第二个参数是输入数据，其中1对应[1,0,1]  \n",
    "param = svm_parameter()#与书中不同，这是新版本的改进，用下面的方法来指定使用的核方法  \n",
    "param.kernel_type = LINEAR#跟多内容参见博客  \n",
    "param.C = 10  \n",
    "model = svm_train(prob, param)#训练  \n",
    "svm_predict([1],[[1,1,1]],model)#第一个参数我是自己预测的，第二个参数是需要判断的数据，第三个就是训练模型  "
   ]
  },
  {
   "cell_type": "code",
   "execution_count": 16,
   "metadata": {},
   "outputs": [
    {
     "data": {
      "text/plain": [
       "array([[ 1,  0],\n",
       "       [ 0,  1],\n",
       "       [ 0, -1],\n",
       "       [-1,  0],\n",
       "       [ 0,  2],\n",
       "       [ 0, -2],\n",
       "       [-2,  0]])"
      ]
     },
     "execution_count": 16,
     "metadata": {},
     "output_type": "execute_result"
    }
   ],
   "source": [
    "prob1 = svm_problem(Y,X)\n",
    "X"
   ]
  },
  {
   "cell_type": "code",
   "execution_count": 17,
   "metadata": {},
   "outputs": [],
   "source": [
    "param = svm_parameter()"
   ]
  },
  {
   "cell_type": "code",
   "execution_count": 18,
   "metadata": {},
   "outputs": [],
   "source": [
    "param.kernel_type = POLY"
   ]
  },
  {
   "cell_type": "code",
   "execution_count": 19,
   "metadata": {},
   "outputs": [],
   "source": [
    "param.gamma=1"
   ]
  },
  {
   "cell_type": "code",
   "execution_count": 20,
   "metadata": {},
   "outputs": [],
   "source": [
    "param.degree=2\n",
    "param.coef0=1"
   ]
  },
  {
   "cell_type": "code",
   "execution_count": 21,
   "metadata": {},
   "outputs": [],
   "source": [
    "param.C = 1e16\n",
    "param.shrinking=1\n",
    "param.cache_size=100"
   ]
  },
  {
   "cell_type": "code",
   "execution_count": 22,
   "metadata": {},
   "outputs": [],
   "source": [
    "model = svm_train(prob1, param)"
   ]
  },
  {
   "cell_type": "code",
   "execution_count": 23,
   "metadata": {},
   "outputs": [
    {
     "name": "stdout",
     "output_type": "stream",
     "text": [
      "svm_type: 0\n",
      " kernel_type: 1\n",
      " degree: 2\n",
      " gamma: 1.0\n",
      " coef0: 1.0\n",
      " cache_size: 100.0\n",
      " eps: 0.001\n",
      " C: 1e+16\n",
      " nr_weight: 0\n",
      " weight_label: <ctypes.wintypes.LP_c_long object at 0x000001ADD449EC48>\n",
      " weight: <svm.LP_c_double object at 0x000001ADD449EBC8>\n",
      " nu: 0.5\n",
      " p: 0.1\n",
      " shrinking: 1\n",
      " probability: 0\n",
      " cross_validation: False\n",
      " nr_fold: 0\n",
      " print_func: <CFunctionType object at 0x000001ADD6012458>\n"
     ]
    }
   ],
   "source": [
    "print(param)"
   ]
  },
  {
   "cell_type": "code",
   "execution_count": 24,
   "metadata": {},
   "outputs": [],
   "source": [
    "support_vectors = model.get_SV()"
   ]
  },
  {
   "cell_type": "code",
   "execution_count": 25,
   "metadata": {},
   "outputs": [
    {
     "data": {
      "text/plain": [
       "[{1: -1.0, -1: 0.0},\n",
       " {2: 2.0, -1: 0.0},\n",
       " {2: -2.0, -1: 0.0},\n",
       " {2: 1.0, -1: 0.0},\n",
       " {2: -1.0, -1: 0.0}]"
      ]
     },
     "execution_count": 25,
     "metadata": {},
     "output_type": "execute_result"
    }
   ],
   "source": [
    "support_vectors"
   ]
  },
  {
   "cell_type": "code",
   "execution_count": 37,
   "metadata": {},
   "outputs": [
    {
     "data": {
      "text/plain": [
       "5"
      ]
     },
     "execution_count": 37,
     "metadata": {},
     "output_type": "execute_result"
    }
   ],
   "source": [
    "L = model.get_sv_coef()\n",
    "len(L)"
   ]
  },
  {
   "cell_type": "code",
   "execution_count": 40,
   "metadata": {},
   "outputs": [
    {
     "data": {
      "text/plain": [
       "[0.8887164347987063,\n",
       " 0.15028522296992985,\n",
       " 0.36817043235512975,\n",
       " -0.4857048695492317,\n",
       " -0.9214672205745343]"
      ]
     },
     "execution_count": 40,
     "metadata": {},
     "output_type": "execute_result"
    }
   ],
   "source": [
    "[i[0] for i in L]"
   ]
  },
  {
   "cell_type": "code",
   "execution_count": 625,
   "metadata": {},
   "outputs": [
    {
     "data": {
      "text/plain": [
       "[1, -1]"
      ]
     },
     "execution_count": 625,
     "metadata": {},
     "output_type": "execute_result"
    }
   ],
   "source": [
    "model.get_labels()"
   ]
  },
  {
   "cell_type": "code",
   "execution_count": 626,
   "metadata": {},
   "outputs": [
    {
     "data": {
      "text/plain": [
       "[4, 5, 6, 2, 3]"
      ]
     },
     "execution_count": 626,
     "metadata": {},
     "output_type": "execute_result"
    }
   ],
   "source": [
    "model.get_sv_indices()"
   ]
  },
  {
   "cell_type": "code",
   "execution_count": 665,
   "metadata": {},
   "outputs": [
    {
     "data": {
      "text/plain": [
       "['__bool__',\n",
       " '__class__',\n",
       " '__ctypes_from_outparam__',\n",
       " '__delattr__',\n",
       " '__delitem__',\n",
       " '__dict__',\n",
       " '__dir__',\n",
       " '__doc__',\n",
       " '__eq__',\n",
       " '__format__',\n",
       " '__ge__',\n",
       " '__getattribute__',\n",
       " '__getitem__',\n",
       " '__gt__',\n",
       " '__hash__',\n",
       " '__init__',\n",
       " '__init_subclass__',\n",
       " '__le__',\n",
       " '__lt__',\n",
       " '__module__',\n",
       " '__ne__',\n",
       " '__new__',\n",
       " '__reduce__',\n",
       " '__reduce_ex__',\n",
       " '__repr__',\n",
       " '__setattr__',\n",
       " '__setitem__',\n",
       " '__setstate__',\n",
       " '__sizeof__',\n",
       " '__str__',\n",
       " '__subclasshook__',\n",
       " '__weakref__',\n",
       " '_b_base_',\n",
       " '_b_needsfree_',\n",
       " '_objects',\n",
       " '_type_',\n",
       " 'contents']"
      ]
     },
     "execution_count": 665,
     "metadata": {},
     "output_type": "execute_result"
    }
   ],
   "source": [
    "dir(model.SV)"
   ]
  },
  {
   "cell_type": "code",
   "execution_count": 673,
   "metadata": {},
   "outputs": [
    {
     "name": "stdout",
     "output_type": "stream",
     "text": [
      "Accuracy = 100% (7/7) (classification)\n"
     ]
    },
    {
     "data": {
      "text/plain": [
       "([-1.0, -1.0, -1.0, 1.0, 1.0, 1.0, 1.0],\n",
       " (100.0, 0.0, 1.0),\n",
       " [[-2.5552473580308748],\n",
       "  [-0.9998965275458906],\n",
       "  [-0.999864256565502],\n",
       "  [0.9996183811639503],\n",
       "  [1.0000389304933324],\n",
       "  [1.0001034724541118],\n",
       "  [5.443200555157483]])"
      ]
     },
     "execution_count": 673,
     "metadata": {},
     "output_type": "execute_result"
    }
   ],
   "source": [
    "svm_predict(Y,X,model)"
   ]
  },
  {
   "cell_type": "code",
   "execution_count": 675,
   "metadata": {},
   "outputs": [
    {
     "ename": "TypeError",
     "evalue": "unsupported operand type(s) for +: 'int' and 'tuple'",
     "output_type": "error",
     "traceback": [
      "\u001b[1;31m---------------------------------------------------------------------------\u001b[0m",
      "\u001b[1;31mTypeError\u001b[0m                                 Traceback (most recent call last)",
      "\u001b[1;32m<ipython-input-675-d113c6ae5219>\u001b[0m in \u001b[0;36m<module>\u001b[1;34m()\u001b[0m\n\u001b[0;32m      3\u001b[0m  \u001b[1;33m(\u001b[0m\u001b[1;36m0.36817043235512975\u001b[0m\u001b[1;33m,\u001b[0m\u001b[1;33m)\u001b[0m\u001b[1;33m,\u001b[0m\u001b[1;33m\u001b[0m\u001b[0m\n\u001b[0;32m      4\u001b[0m  \u001b[1;33m(\u001b[0m\u001b[1;33m-\u001b[0m\u001b[1;36m0.4857048695492317\u001b[0m\u001b[1;33m,\u001b[0m\u001b[1;33m)\u001b[0m\u001b[1;33m,\u001b[0m\u001b[1;33m\u001b[0m\u001b[0m\n\u001b[1;32m----> 5\u001b[1;33m  (-0.9214672205745343,)])\n\u001b[0m",
      "\u001b[1;31mTypeError\u001b[0m: unsupported operand type(s) for +: 'int' and 'tuple'"
     ]
    }
   ],
   "source": [
    "sum([(0.8887164347987063,),\n",
    " (0.15028522296992985,),\n",
    " (0.36817043235512975,),\n",
    " (-0.4857048695492317,),\n",
    " (-0.9214672205745343,)])"
   ]
  },
  {
   "cell_type": "code",
   "execution_count": 75,
   "metadata": {},
   "outputs": [],
   "source": [
    "from sklearn.svm import SVC"
   ]
  },
  {
   "cell_type": "code",
   "execution_count": 76,
   "metadata": {},
   "outputs": [
    {
     "data": {
      "text/plain": [
       "SVC(C=1e+20, cache_size=200, class_weight=None, coef0=1,\n",
       "  decision_function_shape='ovr', degree=2, gamma=1, kernel='poly',\n",
       "  max_iter=-1, probability=False, random_state=None, shrinking=False,\n",
       "  tol=0.001, verbose=False)"
      ]
     },
     "execution_count": 76,
     "metadata": {},
     "output_type": "execute_result"
    }
   ],
   "source": [
    "clf = SVC(C=1e20, kernel='poly', degree=2, gamma=1, coef0=1, shrinking=False)\n",
    "clf.fit(X, Y)"
   ]
  },
  {
   "cell_type": "code",
   "execution_count": 79,
   "metadata": {},
   "outputs": [
    {
     "name": "stdout",
     "output_type": "stream",
     "text": [
      "支撑向量对应下标： [1 2 3 4 5] \n",
      "对应的alpha*y： [[-0.64491963 -0.76220325  0.88870349  0.22988879  0.2885306 ]] \n",
      " b:  [-1.66633141]\n"
     ]
    }
   ],
   "source": [
    "print('支撑向量对应下标：',clf.support_, '\\n对应的alpha*y：', clf.dual_coef_,'\\n b: ',clf.intercept_)"
   ]
  },
  {
   "cell_type": "code",
   "execution_count": 80,
   "metadata": {},
   "outputs": [],
   "source": [
    "import math"
   ]
  },
  {
   "cell_type": "code",
   "execution_count": 81,
   "metadata": {},
   "outputs": [],
   "source": [
    "Xtrans = np.zeros((7, 5))\n",
    "Xtrans[:, 0] = np.ones((7,))\n",
    "Xtrans[:, 1] = math.sqrt(2)*X[:, 0]\n",
    "Xtrans[:, 2] = math.sqrt(2)*X[:, 1]\n",
    "Xtrans[:, 3] = X[:, 0]**2\n",
    "Xtrans[:, 4] = X[:, 1]**2"
   ]
  },
  {
   "cell_type": "code",
   "execution_count": 82,
   "metadata": {},
   "outputs": [
    {
     "data": {
      "text/plain": [
       "array([[ 1.        ,  1.41421356,  0.        ,  1.        ,  0.        ],\n",
       "       [ 1.        ,  0.        ,  1.41421356,  0.        ,  1.        ],\n",
       "       [ 1.        ,  0.        , -1.41421356,  0.        ,  1.        ],\n",
       "       [ 1.        , -1.41421356,  0.        ,  1.        ,  0.        ],\n",
       "       [ 1.        ,  0.        ,  2.82842712,  0.        ,  4.        ],\n",
       "       [ 1.        ,  0.        , -2.82842712,  0.        ,  4.        ],\n",
       "       [ 1.        , -2.82842712,  0.        ,  4.        ,  0.        ]])"
      ]
     },
     "execution_count": 82,
     "metadata": {},
     "output_type": "execute_result"
    }
   ],
   "source": [
    "Xtrans"
   ]
  },
  {
   "cell_type": "code",
   "execution_count": 115,
   "metadata": {},
   "outputs": [
    {
     "data": {
      "text/plain": [
       "SVC(C=1e+20, cache_size=200, class_weight=None, coef0=1,\n",
       "  decision_function_shape='ovr', degree=2, gamma=1, kernel='poly',\n",
       "  max_iter=-1, probability=False, random_state=None, shrinking=False,\n",
       "  tol=0.001, verbose=False)"
      ]
     },
     "execution_count": 115,
     "metadata": {},
     "output_type": "execute_result"
    }
   ],
   "source": [
    "clf = SVC(C=1e20, kernel='poly', degree=2, gamma=1, coef0=1, shrinking=False)\n",
    "clf.fit(X, Y)"
   ]
  },
  {
   "cell_type": "code",
   "execution_count": 120,
   "metadata": {},
   "outputs": [
    {
     "data": {
      "text/plain": [
       "array([-1.66633141])"
      ]
     },
     "execution_count": 120,
     "metadata": {},
     "output_type": "execute_result"
    }
   ],
   "source": [
    "clf.intercept_"
   ]
  },
  {
   "cell_type": "code",
   "execution_count": 121,
   "metadata": {},
   "outputs": [],
   "source": [
    "data_train = pd.read_csv(\"data_train.csv\")\n",
    "data_test = pd.read_csv(\"data_test.csv\")\n",
    "data_train[\"Y\"] = (data_train[\"digit\"] == 2) * 2 - 1\n",
    "data_train[\"X_1\"] = data_train[\"intensity\"]\n",
    "data_train[\"X_2\"] = data_train[\"symmetry\"]\n",
    "X = data_train[[\"X_1\", \"X_2\"]].values\n",
    "Y = data_train[\"Y\"].values\n"
   ]
  },
  {
   "cell_type": "code",
   "execution_count": 144,
   "metadata": {},
   "outputs": [
    {
     "name": "stdout",
     "output_type": "stream",
     "text": [
      "[[-0.12696591  0.00060979]]\n"
     ]
    },
    {
     "data": {
      "text/plain": [
       "array([[-0.12696591,  0.00060979]])"
      ]
     },
     "execution_count": 144,
     "metadata": {},
     "output_type": "execute_result"
    }
   ],
   "source": [
    "\n",
    "test = svm.SVC(C = 1000, kernel = \"linear\")\n",
    "test.fit(X, Y)\n",
    "print(test.coef_)\n",
    "test.coef_"
   ]
  },
  {
   "cell_type": "code",
   "execution_count": 139,
   "metadata": {},
   "outputs": [
    {
     "name": "stdout",
     "output_type": "stream",
     "text": [
      "For C =  1e-05\n",
      "E_in =  0.08942531888629818 \n",
      "\n"
     ]
    }
   ],
   "source": [
    "data_train = pd.read_csv(\"data_train.csv\")\n",
    "data_test = pd.read_csv(\"data_test.csv\")\n",
    "Y = (data_train[\"digit\"] == 4) * 2 - 1\n",
    "data_train[\"X_1\"] = data_train[\"intensity\"]\n",
    "data_train[\"X_2\"] = data_train[\"symmetry\"]\n",
    "X = data_train[[\"X_1\", \"X_2\"]].values\n",
    "Y = Y.values\n",
    "Ytmp = Y.copy()\n",
    "clf = SVC(C = 1, kernel = \"linear\", gamma=100, shrinking=False)\n",
    "result = clf.fit(X,Ytmp)\n",
    "\n",
    "Y_hat = result.predict(X)\n",
    "E_in = sum((Y_hat != Ytmp) * 1) / len(Y)\n",
    "print(\"For C = \", i)\n",
    "print(\"E_in = \", E_in, \"\\n\")"
   ]
  },
  {
   "cell_type": "code",
   "execution_count": 143,
   "metadata": {},
   "outputs": [
    {
     "ename": "SyntaxError",
     "evalue": "invalid syntax (<ipython-input-143-5266b12d4587>, line 1)",
     "output_type": "error",
     "traceback": [
      "\u001b[1;36m  File \u001b[1;32m\"<ipython-input-143-5266b12d4587>\"\u001b[1;36m, line \u001b[1;32m1\u001b[0m\n\u001b[1;33m    np.linalg.norm([-1.0757e-05  4.7600e-06])\u001b[0m\n\u001b[1;37m                                          ^\u001b[0m\n\u001b[1;31mSyntaxError\u001b[0m\u001b[1;31m:\u001b[0m invalid syntax\n"
     ]
    }
   ],
   "source": [
    "np.linalg.norm([-1.0757e-05  4.7600e-06])"
   ]
  },
  {
   "cell_type": "code",
   "execution_count": 146,
   "metadata": {},
   "outputs": [
    {
     "data": {
      "image/png": "[encoded data removed]",
      "text/plain": [
       "<Figure size 432x288 with 1 Axes>"
      ]
     },
     "metadata": {},
     "output_type": "display_data"
    }
   ],
   "source": [
    "import seaborn as sns; sns.set()\n",
    "import matplotlib.pyplot as plt\n",
    "tips = sns.load_dataset(\"tips\")\n",
    "ax = sns.scatterplot(x=\"total_bill\", y=\"tip\", data=tips)"
   ]
  },
  {
   "cell_type": "code",
   "execution_count": null,
   "metadata": {},
   "outputs": [],
   "source": []
  }
 ],
 "metadata": {
  "kernelspec": {
   "display_name": "Python 3",
   "language": "python",
   "name": "python3"
  }
 },
 "nbformat": 4,
 "nbformat_minor": 2
}
