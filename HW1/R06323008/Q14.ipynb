{
 "cells": [
  {
   "cell_type": "code",
   "execution_count": 2,
   "metadata": {},
   "outputs": [],
   "source": [
    "\n",
    "import numpy as np\n",
    "#from svm import*\n",
    "#from svmutil import *\n",
    "import matplotlib.pyplot as plt\n",
    "import pandas as pd\n",
    "\n"
   ]
  },
  {
   "cell_type": "code",
   "execution_count": 3,
   "metadata": {},
   "outputs": [],
   "source": [
    "data_train = pd.read_csv(\"data_train.csv\")\n",
    "data_test = pd.read_csv(\"data_test.csv\")\n",
    "X = data_train[['intensity','symmetry']]\n",
    "X_test = data_test[['intensity','symmetry']]"
   ]
  },
  {
   "cell_type": "code",
   "execution_count": 4,
   "metadata": {},
   "outputs": [],
   "source": [
    "y4 = np.where(data_train[\"digit\"] ==4, 1 ,-1)\n",
    "y4_test = np.where(data_test[\"digit\"] ==4, 1 ,-1)\n",
    "Clist = [-5,-3,-1,1,3]\n"
   ]
  },
  {
   "cell_type": "code",
   "execution_count": 5,
   "metadata": {},
   "outputs": [
    {
     "ename": "NameError",
     "evalue": "name 'svm_problem' is not defined",
     "output_type": "error",
     "traceback": [
      "\u001b[1;31m---------------------------------------------------------------------------\u001b[0m",
      "\u001b[1;31mNameError\u001b[0m                                 Traceback (most recent call last)",
      "\u001b[1;32m<ipython-input-5-11b41e117c24>\u001b[0m in \u001b[0;36m<module>\u001b[1;34m\u001b[0m\n\u001b[1;32m----> 1\u001b[1;33m \u001b[0mprob\u001b[0m \u001b[1;33m=\u001b[0m \u001b[0msvm_problem\u001b[0m\u001b[1;33m(\u001b[0m\u001b[0my4\u001b[0m\u001b[1;33m,\u001b[0m\u001b[0mX\u001b[0m\u001b[1;33m.\u001b[0m\u001b[0mvalues\u001b[0m\u001b[1;33m)\u001b[0m\u001b[1;33m\u001b[0m\u001b[1;33m\u001b[0m\u001b[0m\n\u001b[0m\u001b[0;32m      2\u001b[0m \u001b[0mparam\u001b[0m \u001b[1;33m=\u001b[0m \u001b[0msvm_parameter\u001b[0m\u001b[1;33m(\u001b[0m\u001b[1;33m)\u001b[0m\u001b[1;33m\u001b[0m\u001b[1;33m\u001b[0m\u001b[0m\n\u001b[0;32m      3\u001b[0m \u001b[0mparam\u001b[0m\u001b[1;33m.\u001b[0m\u001b[0mkernel_type\u001b[0m \u001b[1;33m=\u001b[0m \u001b[0mPOLY\u001b[0m\u001b[1;33m\u001b[0m\u001b[1;33m\u001b[0m\u001b[0m\n\u001b[0;32m      4\u001b[0m \u001b[0mparam\u001b[0m\u001b[1;33m.\u001b[0m\u001b[0mcoef0\u001b[0m \u001b[1;33m=\u001b[0m\u001b[1;36m1\u001b[0m\u001b[1;33m\u001b[0m\u001b[1;33m\u001b[0m\u001b[0m\n\u001b[0;32m      5\u001b[0m \u001b[0mparam\u001b[0m\u001b[1;33m.\u001b[0m\u001b[0mdegree\u001b[0m \u001b[1;33m=\u001b[0m \u001b[1;36m2\u001b[0m\u001b[1;33m\u001b[0m\u001b[1;33m\u001b[0m\u001b[0m\n",
      "\u001b[1;31mNameError\u001b[0m: name 'svm_problem' is not defined"
     ]
    }
   ],
   "source": [
    "prob = svm_problem(y4,X.values)\n",
    "param = svm_parameter()\n",
    "param.kernel_type = POLY\n",
    "param.coef0 =1\n",
    "param.degree = 2\n",
    "model = svm_train(prob, param)\n"
   ]
  },
  {
   "cell_type": "code",
   "execution_count": 5,
   "metadata": {},
   "outputs": [
    {
     "name": "stdout",
     "output_type": "stream",
     "text": [
      "Accuracy = 91.0575% (6639/7291) (classification)\n",
      "Accuracy = 90.0349% (1807/2007) (classification)\n",
      "Accuracy = 91.0575% (6639/7291) (classification)\n",
      "Accuracy = 90.0349% (1807/2007) (classification)\n",
      "Accuracy = 91.0575% (6639/7291) (classification)\n",
      "Accuracy = 90.0349% (1807/2007) (classification)\n",
      "Accuracy = 91.0575% (6639/7291) (classification)\n",
      "Accuracy = 90.0349% (1807/2007) (classification)\n",
      "Accuracy = 91.0575% (6639/7291) (classification)\n",
      "Accuracy = 90.0349% (1807/2007) (classification)\n"
     ]
    }
   ],
   "source": [
    "Ein = []\n",
    "Eout = []\n",
    "for c in Clist:\n",
    "    param.C = 10**c\n",
    "    model = svm_train(prob, param)\n",
    "    Ein = Ein +[svm_predict(y4,X.values,model)[1][0]]\n",
    "    Eout = Eout +[svm_predict(y4_test,X_test.values,model)[1][0]]"
   ]
  },
  {
   "cell_type": "code",
   "execution_count": 6,
   "metadata": {
    "scrolled": true
   },
   "outputs": [
    {
     "data": {
      "image/png": "[encoded data removed]",
      "text/plain": [
       "<Figure size 432x288 with 1 Axes>"
      ]
     },
     "metadata": {},
     "output_type": "display_data"
    }
   ],
   "source": [
    "import seaborn as sns; sns.set()\n",
    "import matplotlib.pyplot as plt\n",
    "df=pd.DataFrame({'log10(C)': Clist, 'Ein': Ein,'Eout':Eout})\n",
    "ax = sns.scatterplot(x='log10(C)', y='Ein',data=df)\n"
   ]
  },
  {
   "cell_type": "code",
   "execution_count": 7,
   "metadata": {},
   "outputs": [
    {
     "data": {
      "image/png": "[encoded data removed]",
      "text/plain": [
       "<Figure size 432x288 with 1 Axes>"
      ]
     },
     "metadata": {},
     "output_type": "display_data"
    }
   ],
   "source": [
    "ax = sns.scatterplot(x='log10(C)', y='Eout',data=df)"
   ]
  },
  {
   "cell_type": "markdown",
   "metadata": {},
   "source": [
    "Q14: No matter how C changes, Ein and Eout remains the same. This suggest that Hard-margin SVM does a good job."
   ]
  },
  {
   "cell_type": "code",
   "execution_count": null,
   "metadata": {},
   "outputs": [],
   "source": []
  }
 ],
 "metadata": {
  "kernelspec": {
   "display_name": "Python 3",
   "language": "python",
   "name": "python3"
  },
  "language_info": {
   "codemirror_mode": {
    "name": "ipython",
    "version": 3
   },
   "file_extension": ".py",
   "mimetype": "text/x-python",
   "name": "python",
   "nbconvert_exporter": "python",
   "pygments_lexer": "ipython3",
   "version": "3.6.5"
  }
 },
 "nbformat": 4,
 "nbformat_minor": 2
}
