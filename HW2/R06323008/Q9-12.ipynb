{
 "cells": [
  {
   "cell_type": "code",
   "execution_count": 164,
   "metadata": {},
   "outputs": [],
   "source": [
    "import pandas as pd\n",
    "import numpy as np\n",
    "from sklearn.linear_model import Ridge\n",
    "from sklearn.utils import resample"
   ]
  },
  {
   "cell_type": "code",
   "execution_count": 165,
   "metadata": {},
   "outputs": [],
   "source": [
    "df = np.loadtxt('hw2_lssvm_all.dat')"
   ]
  },
  {
   "cell_type": "code",
   "execution_count": 166,
   "metadata": {},
   "outputs": [],
   "source": [
    "dftrain = df[0:400]\n",
    "dftest = df[400:]"
   ]
  },
  {
   "cell_type": "code",
   "execution_count": 167,
   "metadata": {},
   "outputs": [],
   "source": [
    "Lambda = [0.05, 0.5, 5, 50, 500]"
   ]
  },
  {
   "cell_type": "code",
   "execution_count": null,
   "metadata": {},
   "outputs": [],
   "source": []
  },
  {
   "cell_type": "code",
   "execution_count": 168,
   "metadata": {},
   "outputs": [],
   "source": [
    "Ein = []\n",
    "Eout = []\n",
    "for l in Lambda:\n",
    "    clf = Ridge(alpha=l)\n",
    "    clf.fit(dftrain[:,0:-1], dftrain[:,-1])\n",
    "    y_pred_in = (clf.predict(dftrain[:,0:-1])>0)*2-1\n",
    "    y_pred_out = (clf.predict(dftest[:,0:-1])>0)*2-1\n",
    "    Ein = Ein + [sum(y_pred_in != dftrain[:,-1])/len(y_pred_in)]\n",
    "    Eout = Eout + [sum(y_pred_out != dftest[:,-1])/len(y_pred_out)]\n",
    "    "
   ]
  },
  {
   "cell_type": "code",
   "execution_count": 169,
   "metadata": {},
   "outputs": [
    {
     "data": {
      "text/plain": [
       "[0.3175, 0.3175, 0.3175, 0.32, 0.3225]"
      ]
     },
     "execution_count": 169,
     "metadata": {},
     "output_type": "execute_result"
    }
   ],
   "source": [
    "Ein"
   ]
  },
  {
   "cell_type": "code",
   "execution_count": 170,
   "metadata": {},
   "outputs": [
    {
     "data": {
      "text/plain": [
       "[0.36, 0.36, 0.36, 0.37, 0.37]"
      ]
     },
     "execution_count": 170,
     "metadata": {},
     "output_type": "execute_result"
    }
   ],
   "source": [
    "Eout"
   ]
  },
  {
   "cell_type": "markdown",
   "metadata": {},
   "source": [
    "With $\\lambda$ increases, Ein and Eout increase."
   ]
  },
  {
   "cell_type": "code",
   "execution_count": 171,
   "metadata": {},
   "outputs": [],
   "source": [
    "Ein = []\n",
    "Eout = []\n",
    "for l in Lambda:\n",
    "    y_bag_out = np.zeros(100) \n",
    "    y_bag_in = np.zeros(400)\n",
    "    for t in range(250):\n",
    "        df_bs = resample(dftrain,n_samples=400,random_state=t)        \n",
    "        clf = Ridge(alpha=l)\n",
    "        clf.fit(df_bs[:,0:-1], df_bs[:,-1])\n",
    "        y_bag_out = y_bag_out + (( clf.predict(dftest[:,0:-1]) > 0 )*2-1)\n",
    "        y_bag_in = y_bag_in +   (( clf.predict(dftrain[:,0:-1]) > 0 )*2-1)\n",
    "        \n",
    "        \n",
    "\n",
    "    Ein = Ein + [sum( ((y_bag_in>0)*2-1) != dftrain[:,-1] ) / len(y_bag_in)]\n",
    "    Eout = Eout + [sum( ((y_bag_out>0)*2-1) != dftest[:,-1] )/ len(y_bag_out)]"
   ]
  },
  {
   "cell_type": "code",
   "execution_count": 172,
   "metadata": {},
   "outputs": [
    {
     "data": {
      "text/plain": [
       "[0.3175, 0.3175, 0.3175, 0.3175, 0.3225]"
      ]
     },
     "execution_count": 172,
     "metadata": {},
     "output_type": "execute_result"
    }
   ],
   "source": [
    "Ein"
   ]
  },
  {
   "cell_type": "code",
   "execution_count": 173,
   "metadata": {},
   "outputs": [
    {
     "data": {
      "text/plain": [
       "[0.36, 0.36, 0.36, 0.36, 0.37]"
      ]
     },
     "execution_count": 173,
     "metadata": {},
     "output_type": "execute_result"
    }
   ],
   "source": [
    "Eout"
   ]
  },
  {
   "cell_type": "markdown",
   "metadata": {},
   "source": [
    "With $\\lambda$ increases, Ein and Eout increase.\n",
    "And there is no improvement after using bootstrpping."
   ]
  },
  {
   "cell_type": "code",
   "execution_count": null,
   "metadata": {},
   "outputs": [],
   "source": []
  },
  {
   "cell_type": "code",
   "execution_count": null,
   "metadata": {},
   "outputs": [],
   "source": []
  },
  {
   "cell_type": "code",
   "execution_count": null,
   "metadata": {},
   "outputs": [],
   "source": []
  }
 ],
 "metadata": {
  "kernelspec": {
   "display_name": "Python 3",
   "language": "python",
   "name": "python3"
  },
  "language_info": {
   "codemirror_mode": {
    "name": "ipython",
    "version": 3
   },
   "file_extension": ".py",
   "mimetype": "text/x-python",
   "name": "python",
   "nbconvert_exporter": "python",
   "pygments_lexer": "ipython3",
   "version": "3.6.5"
  }
 },
 "nbformat": 4,
 "nbformat_minor": 2
}
