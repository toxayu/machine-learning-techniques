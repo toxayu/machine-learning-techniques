{
 "cells": [
  {
   "cell_type": "code",
   "execution_count": 104,
   "metadata": {},
   "outputs": [],
   "source": [
    "import numpy as np\n",
    "import pandas as pd\n",
    "from scipy import stats"
   ]
  },
  {
   "cell_type": "code",
   "execution_count": 129,
   "metadata": {},
   "outputs": [],
   "source": [
    "class Node:\n",
    "    def __init__(self, b, col, value = None, height = 0,Mode = 0):\n",
    "        self.b = b\n",
    "        self.col = col\n",
    "        self.value = value\n",
    "        self.LNode = None\n",
    "        self.RNode = None\n",
    "        self.height = height\n",
    "        self.Mode = Mode"
   ]
  },
  {
   "cell_type": "code",
   "execution_count": 130,
   "metadata": {},
   "outputs": [],
   "source": [
    "def Gini(y):\n",
    "    Gini = 1\n",
    "    try:\n",
    "        N = y.shape[0]\n",
    "    except:\n",
    "        return Gini\n",
    "    \n",
    "    for k in [1, -1]:\n",
    "        Gini += -(np.sum(y == k)/N)**2\n",
    "    return Gini"
   ]
  },
  {
   "cell_type": "code",
   "execution_count": 131,
   "metadata": {},
   "outputs": [],
   "source": [
    "def DStump(X, y):\n",
    "    row, col = X.shape\n",
    "    X_sort = np.sort(X, axis = 0)\n",
    "    thresList = np.r_[[X_sort[0,:]-1], (X_sort[0:-1,:] + X_sort[1:,:])/2, [X_sort[-1,:]+1]]\n",
    "    minPurity = y.shape[0]\n",
    "    DSb = 0\n",
    "    DScol = 0\n",
    "    for c in range(col):\n",
    "        for i in range(thresList.shape[0]):\n",
    "        \n",
    "            y0 = y[ X[:,c] <  thresList[i,c]]\n",
    "            y1 = y[ X[:,c] >= thresList[i,c]]\n",
    "            Purity = y0.shape[0]*Gini(y0)+y1.shape[0]*Gini(y1)\n",
    "            if minPurity > Purity:\n",
    "                minPurity = Purity\n",
    "                DSb = thresList[i,c]\n",
    "                DScol = c\n",
    "               \n",
    "    return DSb, DScol"
   ]
  },
  {
   "cell_type": "code",
   "execution_count": 154,
   "metadata": {},
   "outputs": [],
   "source": [
    "def DTree(X, y):\n",
    "    \n",
    "    if (np.sum(y!=y[0])==0 or X.shape[0]==1 or np.sum(X!=X[0, :])==0):\n",
    "        node = Node(None, None, y[0])\n",
    "        return node\n",
    "    \n",
    "    DSb, DScol = DStump(X, y)\n",
    "    #print(DSb,DScol)\n",
    "    LX = X[ (X[:, DScol] < DSb) , :]\n",
    "    RX = X[ (X[:, DScol] >= DSb), :]\n",
    "    \n",
    "    Ly = y[ (X[:, DScol] < DSb) ]\n",
    "    Ry = y[ (X[:, DScol] >= DSb)]\n",
    "    \n",
    "    node = Node(DSb, DScol)\n",
    "    \n",
    "    \n",
    "    node.LNode = DTree(LX, Ly)\n",
    "    node.RNode = DTree(RX, Ry)\n",
    "    if np.sum(y==1)>np.sum(y==-1):\n",
    "        node.Mode = 1\n",
    "    elif np.sum(y==1)==np.sum(y==-1):\n",
    "        node.Mode = 0\n",
    "    else:\n",
    "        node.Mode = -1\n",
    "    \n",
    "    \n",
    "    \n",
    "    return node"
   ]
  },
  {
   "cell_type": "code",
   "execution_count": 155,
   "metadata": {},
   "outputs": [],
   "source": [
    "data = pd.read_csv('hw3_train.dat', sep='\\s+', header=None)\n",
    "X_train = data.iloc[:,0:2].values\n",
    "y_train = data.iloc[:,2].values\n",
    "data = pd.read_csv('hw3_test.dat', sep='\\s+', header=None)\n",
    "X_test = data.iloc[:,0:2].values\n",
    "y_test = data.iloc[:,2].values"
   ]
  },
  {
   "cell_type": "code",
   "execution_count": 156,
   "metadata": {},
   "outputs": [
    {
     "name": "stderr",
     "output_type": "stream",
     "text": [
      "C:\\Users\\Morris\\Anaconda3\\lib\\site-packages\\ipykernel_launcher.py:9: RuntimeWarning: invalid value encountered in long_scalars\n",
      "  if __name__ == '__main__':\n"
     ]
    },
    {
     "data": {
      "text/plain": [
       "1"
      ]
     },
     "execution_count": 156,
     "metadata": {},
     "output_type": "execute_result"
    }
   ],
   "source": [
    "DStump(X_train, y_train)[1]"
   ]
  },
  {
   "cell_type": "code",
   "execution_count": 157,
   "metadata": {},
   "outputs": [
    {
     "name": "stderr",
     "output_type": "stream",
     "text": [
      "C:\\Users\\Morris\\Anaconda3\\lib\\site-packages\\ipykernel_launcher.py:9: RuntimeWarning: invalid value encountered in long_scalars\n",
      "  if __name__ == '__main__':\n"
     ]
    }
   ],
   "source": [
    "node0 = DTree(X_train, y_train)\n"
   ]
  },
  {
   "cell_type": "code",
   "execution_count": 158,
   "metadata": {},
   "outputs": [],
   "source": [
    "def internal_node(node):\n",
    "    \n",
    "    if node == None:\n",
    "        \n",
    "        return 0\n",
    "    if node.LNode == None and node.RNode == None:\n",
    "        print('==End',node.value, node.height,'Mode=',node.Mode)\n",
    "        return 0\n",
    "    l = 0; r = 0\n",
    "    if node.LNode != None:\n",
    "        LH = node.height + 1\n",
    "        node.LNode.height = LH\n",
    "        print('L',node.b,node.col, node.height+1,'Mode=',node.Mode)\n",
    "        l = internal_node(node.LNode)\n",
    "    if node.RNode != None:\n",
    "        RH = node.height + 1\n",
    "        node.RNode.height = RH\n",
    "        print('R',node.b,node.col,node.height+1,'Mode=',node.Mode)\n",
    "        r = internal_node(node.RNode)\n",
    "    return 1 + l + r\n"
   ]
  },
  {
   "cell_type": "code",
   "execution_count": 159,
   "metadata": {},
   "outputs": [
    {
     "name": "stdout",
     "output_type": "stream",
     "text": [
      "L 0.626233 1 1 Mode= -1\n",
      "L 0.22443950000000001 0 2 Mode= 1\n",
      "L 0.11515275 1 3 Mode= -1\n",
      "==End 1 3 Mode= 0\n",
      "R 0.11515275 1 3 Mode= -1\n",
      "==End -1 3 Mode= 0\n",
      "R 0.22443950000000001 0 2 Mode= 1\n",
      "L 0.541508 0 3 Mode= 1\n",
      "L 0.3586205 1 4 Mode= 1\n",
      "L 0.501625 0 5 Mode= 1\n",
      "==End 1 5 Mode= 0\n",
      "R 0.501625 0 5 Mode= 1\n",
      "==End -1 5 Mode= 0\n",
      "R 0.3586205 1 4 Mode= 1\n",
      "L 0.26075149999999997 0 5 Mode= -1\n",
      "==End 1 5 Mode= 0\n",
      "R 0.26075149999999997 0 5 Mode= -1\n",
      "==End -1 5 Mode= 0\n",
      "R 0.541508 0 3 Mode= 1\n",
      "L 0.285925 1 4 Mode= 1\n",
      "L 0.26603849999999996 1 5 Mode= 1\n",
      "==End 1 5 Mode= 0\n",
      "R 0.26603849999999996 1 5 Mode= 1\n",
      "==End -1 5 Mode= 0\n",
      "R 0.285925 1 4 Mode= 1\n",
      "==End 1 4 Mode= 0\n",
      "R 0.626233 1 1 Mode= -1\n",
      "L 0.8781715000000001 0 2 Mode= -1\n",
      "==End -1 2 Mode= 0\n",
      "R 0.8781715000000001 0 2 Mode= -1\n",
      "==End 1 2 Mode= 0\n"
     ]
    },
    {
     "data": {
      "text/plain": [
       "10"
      ]
     },
     "execution_count": 159,
     "metadata": {},
     "output_type": "execute_result"
    }
   ],
   "source": [
    "internal_node(node0)"
   ]
  },
  {
   "cell_type": "code",
   "execution_count": 27,
   "metadata": {},
   "outputs": [],
   "source": [
    "def predictDT(node, X):\n",
    "    if node.value is not None:\n",
    "        return node.value\n",
    "    b = node.b\n",
    "    c = node.col\n",
    "    if X[c] < b:\n",
    "        return predictDT(node.LNode,X)\n",
    "    else:\n",
    "        return predictDT(node.RNode,X)\n",
    "def predict(node, Xall):\n",
    "    row = Xall.shape[0]\n",
    "    ypred = np.zeros(row)\n",
    "    for i in range(row):\n",
    "        ypred[i] = predictDT(node,Xall[i,:])\n",
    "    return ypred\n",
    "def err01(ypred, y):\n",
    "    return np.sum(ypred != y)/y.shape[0]"
   ]
  },
  {
   "cell_type": "code",
   "execution_count": 29,
   "metadata": {},
   "outputs": [
    {
     "data": {
      "text/plain": [
       "0.126"
      ]
     },
     "execution_count": 29,
     "metadata": {},
     "output_type": "execute_result"
    }
   ],
   "source": [
    "err01(predict(node0,X_test), y_test)"
   ]
  },
  {
   "cell_type": "code",
   "execution_count": 141,
   "metadata": {},
   "outputs": [
    {
     "data": {
      "text/plain": [
       "52"
      ]
     },
     "execution_count": 141,
     "metadata": {},
     "output_type": "execute_result"
    }
   ],
   "source": [
    "np.sum(y_train==1)\n",
    "np.sum(y_train==-1)"
   ]
  },
  {
   "cell_type": "code",
   "execution_count": 166,
   "metadata": {},
   "outputs": [],
   "source": [
    "def pruneNode(node, MaxH = np.inf):\n",
    "\n",
    "    if node == None:\n",
    "        return \n",
    "    if node.LNode == None and node.RNode == None:\n",
    "        return\n",
    "\n",
    "    if node.LNode != None:\n",
    "        if (node.LNode.height > MaxH) and (node.LNode.LNode == None):\n",
    "            node.value == node.LNode.mode\n",
    "            node.LNode == None\n",
    "            node.RNode == None\n",
    "            \n",
    "        \n",
    "    if node.RNode != None:\n",
    "        if node.RNode.height > MaxH and (node.RNode.RNode == None):\n",
    "            node.value == node.RNode.mode\n",
    "            node.LNode == None\n",
    "            node.RNode == None\n",
    "    return node\n"
   ]
  },
  {
   "cell_type": "code",
   "execution_count": 169,
   "metadata": {},
   "outputs": [
    {
     "ename": "AttributeError",
     "evalue": "'Node' object has no attribute 'mode'",
     "output_type": "error",
     "traceback": [
      "\u001b[1;31m---------------------------------------------------------------------------\u001b[0m",
      "\u001b[1;31mAttributeError\u001b[0m                            Traceback (most recent call last)",
      "\u001b[1;32m<ipython-input-169-17bc1b330681>\u001b[0m in \u001b[0;36m<module>\u001b[1;34m()\u001b[0m\n\u001b[1;32m----> 1\u001b[1;33m \u001b[0mnode_2\u001b[0m \u001b[1;33m=\u001b[0m \u001b[0mpruneNode\u001b[0m\u001b[1;33m(\u001b[0m\u001b[0mnode0\u001b[0m\u001b[1;33m,\u001b[0m \u001b[1;36m0\u001b[0m\u001b[1;33m)\u001b[0m\u001b[1;33m\u001b[0m\u001b[0m\n\u001b[0m",
      "\u001b[1;32m<ipython-input-166-19d83854d07a>\u001b[0m in \u001b[0;36mpruneNode\u001b[1;34m(node, MaxH)\u001b[0m\n\u001b[0;32m      8\u001b[0m     \u001b[1;32mif\u001b[0m \u001b[0mnode\u001b[0m\u001b[1;33m.\u001b[0m\u001b[0mLNode\u001b[0m \u001b[1;33m!=\u001b[0m \u001b[1;32mNone\u001b[0m\u001b[1;33m:\u001b[0m\u001b[1;33m\u001b[0m\u001b[0m\n\u001b[0;32m      9\u001b[0m         \u001b[1;32mif\u001b[0m \u001b[0mnode\u001b[0m\u001b[1;33m.\u001b[0m\u001b[0mLNode\u001b[0m\u001b[1;33m.\u001b[0m\u001b[0mheight\u001b[0m \u001b[1;33m>\u001b[0m \u001b[0mMaxH\u001b[0m\u001b[1;33m:\u001b[0m\u001b[1;33m\u001b[0m\u001b[0m\n\u001b[1;32m---> 10\u001b[1;33m             \u001b[0mnode\u001b[0m\u001b[1;33m.\u001b[0m\u001b[0mvalue\u001b[0m \u001b[1;33m==\u001b[0m \u001b[0mnode\u001b[0m\u001b[1;33m.\u001b[0m\u001b[0mLNode\u001b[0m\u001b[1;33m.\u001b[0m\u001b[0mmode\u001b[0m\u001b[1;33m\u001b[0m\u001b[0m\n\u001b[0m\u001b[0;32m     11\u001b[0m             \u001b[0mnode\u001b[0m\u001b[1;33m.\u001b[0m\u001b[0mLNode\u001b[0m \u001b[1;33m==\u001b[0m \u001b[1;32mNone\u001b[0m\u001b[1;33m\u001b[0m\u001b[0m\n\u001b[0;32m     12\u001b[0m             \u001b[0mnode\u001b[0m\u001b[1;33m.\u001b[0m\u001b[0mRNode\u001b[0m \u001b[1;33m==\u001b[0m \u001b[1;32mNone\u001b[0m\u001b[1;33m\u001b[0m\u001b[0m\n",
      "\u001b[1;31mAttributeError\u001b[0m: 'Node' object has no attribute 'mode'"
     ]
    }
   ],
   "source": [
    "node_2 = pruneNode(node0, 0)"
   ]
  },
  {
   "cell_type": "code",
   "execution_count": 170,
   "metadata": {},
   "outputs": [
    {
     "name": "stdout",
     "output_type": "stream",
     "text": [
      "L 0.626233 1 1 Mode= -1\n",
      "L 0.22443950000000001 0 2 Mode= 1\n",
      "L 0.11515275 1 3 Mode= -1\n",
      "==End 1 3 Mode= 0\n",
      "R 0.11515275 1 3 Mode= -1\n",
      "==End -1 3 Mode= 0\n",
      "R 0.22443950000000001 0 2 Mode= 1\n",
      "L 0.541508 0 3 Mode= 1\n",
      "L 0.3586205 1 4 Mode= 1\n",
      "L 0.501625 0 5 Mode= 1\n",
      "==End 1 5 Mode= 0\n",
      "R 0.501625 0 5 Mode= 1\n",
      "==End -1 5 Mode= 0\n",
      "R 0.3586205 1 4 Mode= 1\n",
      "L 0.26075149999999997 0 5 Mode= -1\n",
      "==End 1 5 Mode= 0\n",
      "R 0.26075149999999997 0 5 Mode= -1\n",
      "==End -1 5 Mode= 0\n",
      "R 0.541508 0 3 Mode= 1\n",
      "L 0.285925 1 4 Mode= 1\n",
      "L 0.26603849999999996 1 5 Mode= 1\n",
      "==End 1 5 Mode= 0\n",
      "R 0.26603849999999996 1 5 Mode= 1\n",
      "==End -1 5 Mode= 0\n",
      "R 0.285925 1 4 Mode= 1\n",
      "==End 1 4 Mode= 0\n",
      "R 0.626233 1 1 Mode= -1\n",
      "L 0.8781715000000001 0 2 Mode= -1\n",
      "==End -1 2 Mode= 0\n",
      "R 0.8781715000000001 0 2 Mode= -1\n",
      "==End 1 2 Mode= 0\n"
     ]
    },
    {
     "data": {
      "text/plain": [
       "10"
      ]
     },
     "execution_count": 170,
     "metadata": {},
     "output_type": "execute_result"
    }
   ],
   "source": [
    "internal_node(node_2)"
   ]
  },
  {
   "cell_type": "code",
   "execution_count": null,
   "metadata": {},
   "outputs": [],
   "source": []
  }
 ],
 "metadata": {
  "kernelspec": {
   "display_name": "Python 3",
   "language": "python",
   "name": "python3"
  },
  "language_info": {
   "codemirror_mode": {
    "name": "ipython",
    "version": 3
   },
   "file_extension": ".py",
   "mimetype": "text/x-python",
   "name": "python",
   "nbconvert_exporter": "python",
   "pygments_lexer": "ipython3",
   "version": "3.6.5"
  }
 },
 "nbformat": 4,
 "nbformat_minor": 2
}
