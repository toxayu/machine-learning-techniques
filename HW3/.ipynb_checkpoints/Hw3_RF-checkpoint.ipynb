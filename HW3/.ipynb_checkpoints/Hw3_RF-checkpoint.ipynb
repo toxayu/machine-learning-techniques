{
 "cells": [
  {
   "cell_type": "code",
   "execution_count": 104,
   "metadata": {},
   "outputs": [],
   "source": [
    "import numpy as np\n",
    "import pandas as pd\n"
   ]
  },
  {
   "cell_type": "code",
   "execution_count": 227,
   "metadata": {},
   "outputs": [],
   "source": [
    "class Node:\n",
    "    def __init__(self, b, col, value = None, height = 0, Mode = None):\n",
    "        self.b = b\n",
    "        self.col = col\n",
    "        self.value = value\n",
    "        self.LNode = None\n",
    "        self.RNode = None\n",
    "        self.height = height\n",
    "        self.Mode = Mode"
   ]
  },
  {
   "cell_type": "code",
   "execution_count": 130,
   "metadata": {},
   "outputs": [],
   "source": [
    "def Gini(y):\n",
    "    Gini = 1\n",
    "    try:\n",
    "        N = y.shape[0]\n",
    "    except:\n",
    "        return Gini\n",
    "    \n",
    "    for k in [1, -1]:\n",
    "        Gini += -(np.sum(y == k)/N)**2\n",
    "    return Gini"
   ]
  },
  {
   "cell_type": "code",
   "execution_count": 131,
   "metadata": {},
   "outputs": [],
   "source": [
    "def DStump(X, y):\n",
    "    row, col = X.shape\n",
    "    X_sort = np.sort(X, axis = 0)\n",
    "    thresList = np.r_[[X_sort[0,:]-1], (X_sort[0:-1,:] + X_sort[1:,:])/2, [X_sort[-1,:]+1]]\n",
    "    minPurity = y.shape[0]\n",
    "    DSb = 0\n",
    "    DScol = 0\n",
    "    for c in range(col):\n",
    "        for i in range(thresList.shape[0]):\n",
    "        \n",
    "            y0 = y[ X[:,c] <  thresList[i,c]]\n",
    "            y1 = y[ X[:,c] >= thresList[i,c]]\n",
    "            Purity = y0.shape[0]*Gini(y0)+y1.shape[0]*Gini(y1)\n",
    "            if minPurity > Purity:\n",
    "                minPurity = Purity\n",
    "                DSb = thresList[i,c]\n",
    "                DScol = c\n",
    "               \n",
    "    return DSb, DScol"
   ]
  },
  {
   "cell_type": "code",
   "execution_count": 430,
   "metadata": {},
   "outputs": [],
   "source": [
    "def DTreeFull(X, y):\n",
    "    \n",
    "    if (np.sum(y!=y[0])==0 or X.shape[0]==1 or np.sum(X!=X[0, :])==0):\n",
    "        node = Node(None, None, y[0])\n",
    "        return node\n",
    "    \n",
    "    DSb, DScol = DStump(X, y)\n",
    "    #print(DSb,DScol)\n",
    "    LX = X[ (X[:, DScol] < DSb) , :]\n",
    "    RX = X[ (X[:, DScol] >= DSb), :]\n",
    "    \n",
    "    Ly = y[ (X[:, DScol] < DSb) ]\n",
    "    Ry = y[ (X[:, DScol] >= DSb)]\n",
    "    \n",
    "    if (sum(y == -1) >sum(y == 1)):\n",
    "        Mode = -1\n",
    "    else:\n",
    "        Mode = 1\n",
    "        \n",
    "    node = Node(DSb, DScol, Mode = Mode)\n",
    "    \n",
    "    \n",
    "    node.LNode = DTree(LX, Ly)\n",
    "    node.RNode = DTree(RX, Ry)\n",
    " \n",
    "    \n",
    "    return node"
   ]
  },
  {
   "cell_type": "code",
   "execution_count": null,
   "metadata": {},
   "outputs": [],
   "source": []
  },
  {
   "cell_type": "code",
   "execution_count": 346,
   "metadata": {},
   "outputs": [],
   "source": [
    "data = pd.read_csv('hw3_train.dat', sep='\\s+', header=None)\n",
    "X_train = data.iloc[:,0:2].values\n",
    "y_train = data.iloc[:,2].values\n",
    "data = pd.read_csv('hw3_test.dat', sep='\\s+', header=None)\n",
    "X_test = data.iloc[:,0:2].values\n",
    "y_test = data.iloc[:,2].values"
   ]
  },
  {
   "cell_type": "code",
   "execution_count": null,
   "metadata": {},
   "outputs": [],
   "source": []
  },
  {
   "cell_type": "code",
   "execution_count": null,
   "metadata": {},
   "outputs": [],
   "source": []
  },
  {
   "cell_type": "code",
   "execution_count": 184,
   "metadata": {},
   "outputs": [],
   "source": [
    "def nodeH(node):\n",
    "    \n",
    "    h = 0 \n",
    "    if node == None:\n",
    "\n",
    "        return \n",
    "    if node.LNode == None and node.RNode == None:\n",
    "        \n",
    "        if node.height > h: \n",
    "            h = node.height\n",
    "        return h\n",
    "\n",
    "    if node.LNode != None:\n",
    "\n",
    "        lh = nodeH(node.LNode)\n",
    "    if node.RNode != None:\n",
    "\n",
    "        rh = nodeH(node.RNode)\n",
    "        \n",
    "    print('MaxH=',h)\n",
    "    return max(h,lh,rh)\n"
   ]
  },
  {
   "cell_type": "code",
   "execution_count": 261,
   "metadata": {},
   "outputs": [],
   "source": [
    "def internal_node(node):\n",
    "    \n",
    "    if node == None:\n",
    "        \n",
    "        return 0\n",
    "    if node.LNode == None and node.RNode == None:\n",
    "        print('==End',node.value, node.height)\n",
    "        return 0\n",
    "    l = 0; r = 0\n",
    "    if node.LNode != None:\n",
    "\n",
    "        print('L',node.b,node.col, node.height+1,'Mode=',node.Mode,'Value=',node.value)\n",
    "        l = internal_node(node.LNode)\n",
    "    if node.RNode != None:\n",
    "\n",
    "        print('R',node.b,node.col,node.height+1,'Mode=',node.Mode,'Value=',node.value)\n",
    "        r = internal_node(node.RNode)\n",
    "    return 1 + l + r\n"
   ]
  },
  {
   "cell_type": "code",
   "execution_count": 220,
   "metadata": {},
   "outputs": [],
   "source": [
    "def setNodeH(node):\n",
    "    \n",
    "    if node == None:\n",
    "        \n",
    "        return 0\n",
    "    if node.LNode == None and node.RNode == None:\n",
    "\n",
    "        return 0\n",
    "\n",
    "    if node.LNode != None:\n",
    "        LH = node.height + 1\n",
    "        node.LNode.height = LH\n",
    "\n",
    "        setNodeH(node.LNode)\n",
    "    if node.RNode != None:\n",
    "        RH = node.height + 1\n",
    "        node.RNode.height = RH\n",
    "\n",
    "        setNodeH(node.RNode)\n",
    "    return node\n"
   ]
  },
  {
   "cell_type": "code",
   "execution_count": 280,
   "metadata": {},
   "outputs": [
    {
     "data": {
      "text/plain": [
       "<__main__.Node at 0x1a58e403710>"
      ]
     },
     "execution_count": 280,
     "metadata": {},
     "output_type": "execute_result"
    }
   ],
   "source": [
    "node1 = node0\n",
    "setNodeH(node0)"
   ]
  },
  {
   "cell_type": "code",
   "execution_count": 312,
   "metadata": {},
   "outputs": [],
   "source": [
    "def NodePrune(node, MaxH = np.inf):\n",
    "    \n",
    "    if node == None:\n",
    "        \n",
    "        return \n",
    "    if node.LNode == None and node.RNode == None:\n",
    "\n",
    "        return \n",
    "\n",
    "    if node.LNode != None:\n",
    "        if node.LNode.height > MaxH:\n",
    "            node.value = node.Mode\n",
    "        node.LNode = NodePrune(node.LNode,MaxH-1)\n",
    "    if node.RNode != None:\n",
    "        if node.RNode.height > MaxH:\n",
    "            node.value = node.Mode\n",
    "        node.RNode = NodePrune(node.RNode,MaxH-1)\n",
    "\n",
    "    return node"
   ]
  },
  {
   "cell_type": "code",
   "execution_count": 422,
   "metadata": {},
   "outputs": [
    {
     "name": "stdout",
     "output_type": "stream",
     "text": [
      "MaxH= 0\n",
      "MaxH= 0\n",
      "MaxH= 0\n",
      "MaxH= 0\n",
      "MaxH= 0\n",
      "MaxH= 0\n",
      "MaxH= 0\n",
      "MaxH= 0\n",
      "MaxH= 0\n",
      "MaxH= 0\n"
     ]
    },
    {
     "name": "stderr",
     "output_type": "stream",
     "text": [
      "C:\\Users\\Morris\\Anaconda3\\lib\\site-packages\\ipykernel_launcher.py:9: RuntimeWarning: invalid value encountered in long_scalars\n",
      "  if __name__ == '__main__':\n"
     ]
    },
    {
     "data": {
      "text/plain": [
       "5"
      ]
     },
     "execution_count": 422,
     "metadata": {},
     "output_type": "execute_result"
    }
   ],
   "source": [
    "node0 = DTree(X_train, y_train)\n",
    "\n",
    "nodeH(setNodeH(node0))"
   ]
  },
  {
   "cell_type": "code",
   "execution_count": 320,
   "metadata": {},
   "outputs": [],
   "source": [
    "nodeP = NodePrune(setNodeH(node0),2)\n",
    "#internal_node(nodeP)"
   ]
  },
  {
   "cell_type": "code",
   "execution_count": 507,
   "metadata": {},
   "outputs": [],
   "source": [
    "def predictDT(node, X,MaxH=np.inf):\n",
    "    if node.value is not None:\n",
    "        \n",
    "        return node.value\n",
    "        \n",
    "    b = node.b\n",
    "    c = node.col\n",
    "    \n",
    "    if node.height >= MaxH:\n",
    "        #print('height' , node.height)\n",
    "        return node.Mode\n",
    "    \n",
    "    if X[c] < b:\n",
    "        return predictDT(node.LNode,X, MaxH)\n",
    "    else:\n",
    "        return predictDT(node.RNode,X, MaxH)\n",
    "    \n",
    "def predict(node, Xall,MaxH=np.inf):\n",
    "    row = Xall.shape[0]\n",
    "    ypred = np.zeros(row)\n",
    "    for i in range(row):\n",
    "        ypred[i] = predictDT(node,Xall[i,:],MaxH)\n",
    "    return ypred\n",
    "\n",
    "def err01(ypred, y):\n",
    "    return np.sum(ypred != y)/y.shape[0]"
   ]
  },
  {
   "cell_type": "code",
   "execution_count": 508,
   "metadata": {},
   "outputs": [
    {
     "data": {
      "text/plain": [
       "0.126"
      ]
     },
     "execution_count": 508,
     "metadata": {},
     "output_type": "execute_result"
    }
   ],
   "source": [
    "err01(predict(node0,X_test),y_test)"
   ]
  },
  {
   "cell_type": "code",
   "execution_count": 515,
   "metadata": {},
   "outputs": [
    {
     "data": {
      "text/plain": [
       "0.508"
      ]
     },
     "execution_count": 515,
     "metadata": {},
     "output_type": "execute_result"
    }
   ],
   "source": [
    "err01(predict(node0,X_test,0\n",
    "             ),y_test)"
   ]
  },
  {
   "cell_type": "code",
   "execution_count": 495,
   "metadata": {},
   "outputs": [
    {
     "data": {
      "text/plain": [
       "508"
      ]
     },
     "execution_count": 495,
     "metadata": {},
     "output_type": "execute_result"
    }
   ],
   "source": [
    "sum(y_test==1)"
   ]
  },
  {
   "cell_type": "code",
   "execution_count": null,
   "metadata": {},
   "outputs": [],
   "source": []
  },
  {
   "cell_type": "code",
   "execution_count": 431,
   "metadata": {},
   "outputs": [
    {
     "name": "stderr",
     "output_type": "stream",
     "text": [
      "C:\\Users\\Morris\\Anaconda3\\lib\\site-packages\\ipykernel_launcher.py:9: RuntimeWarning: invalid value encountered in long_scalars\n",
      "  if __name__ == '__main__':\n"
     ]
    }
   ],
   "source": [
    "node0 = DTreeFull(X_train, y_train)\n",
    "#node_2 = NodePrune(setNodeH(node0))"
   ]
  },
  {
   "cell_type": "code",
   "execution_count": 465,
   "metadata": {},
   "outputs": [
    {
     "name": "stdout",
     "output_type": "stream",
     "text": [
      "L 0.626233 1 1 Mode= -1 Value= None\n",
      "L 0.22443950000000001 0 2 Mode= 1 Value= None\n",
      "L 0.11515275 1 3 Mode= -1 Value= None\n",
      "==End 1 3\n",
      "R 0.11515275 1 3 Mode= -1 Value= None\n",
      "==End -1 3\n",
      "R 0.22443950000000001 0 2 Mode= 1 Value= None\n",
      "L 0.541508 0 3 Mode= 1 Value= None\n",
      "L 0.3586205 1 4 Mode= 1 Value= None\n",
      "L 0.501625 0 5 Mode= 1 Value= None\n",
      "==End 1 5\n",
      "R 0.501625 0 5 Mode= 1 Value= None\n",
      "==End -1 5\n",
      "R 0.3586205 1 4 Mode= 1 Value= None\n",
      "L 0.26075149999999997 0 5 Mode= -1 Value= None\n",
      "==End 1 5\n",
      "R 0.26075149999999997 0 5 Mode= -1 Value= None\n",
      "==End -1 5\n",
      "R 0.541508 0 3 Mode= 1 Value= None\n",
      "L 0.285925 1 4 Mode= 1 Value= None\n",
      "L 0.26603849999999996 1 5 Mode= 1 Value= None\n",
      "==End 1 5\n",
      "R 0.26603849999999996 1 5 Mode= 1 Value= None\n",
      "==End -1 5\n",
      "R 0.285925 1 4 Mode= 1 Value= None\n",
      "==End 1 4\n",
      "R 0.626233 1 1 Mode= -1 Value= None\n",
      "L 0.8781715000000001 0 2 Mode= -1 Value= None\n",
      "==End -1 2\n",
      "R 0.8781715000000001 0 2 Mode= -1 Value= None\n",
      "==End 1 2\n"
     ]
    },
    {
     "data": {
      "text/plain": [
       "10"
      ]
     },
     "execution_count": 465,
     "metadata": {},
     "output_type": "execute_result"
    }
   ],
   "source": [
    "internal_node(setNodeH(node0))"
   ]
  },
  {
   "cell_type": "code",
   "execution_count": null,
   "metadata": {},
   "outputs": [],
   "source": []
  },
  {
   "cell_type": "code",
   "execution_count": 468,
   "metadata": {},
   "outputs": [],
   "source": [
    "def run_node(node):\n",
    "    \n",
    "    if node == None:\n",
    "        \n",
    "        return \n",
    "    if node.LNode == None and node.RNode == None:\n",
    "        print('==End==','Value=',node.value,'h=', node.height)\n",
    "    \n",
    "    #print('Node splits at col= ',node.col,' h=',node.height)\n",
    "    \n",
    "    if node.LNode != None:\n",
    "\n",
    "        print('LNode is smaller than',node.b ,'Mode=',node.Mode,'Value=',node.value)\n",
    "        run_node(node.LNode)\n",
    "    if node.RNode != None:\n",
    "        print('RNode is greater than',node.b ,'Mode=',node.Mode,'Value=',node.value)\n",
    "       \n",
    "        run_node(node.RNode)\n",
    "    return \n"
   ]
  },
  {
   "cell_type": "code",
   "execution_count": 469,
   "metadata": {},
   "outputs": [
    {
     "name": "stdout",
     "output_type": "stream",
     "text": [
      "LNode is smaller than 0.626233 Mode= -1 Value= None\n",
      "LNode is smaller than 0.22443950000000001 Mode= 1 Value= None\n",
      "LNode is smaller than 0.11515275 Mode= -1 Value= None\n",
      "==End== Value= 1 h= 3\n",
      "RNode is greater than 0.11515275 Mode= -1 Value= None\n",
      "==End== Value= -1 h= 3\n",
      "RNode is greater than 0.22443950000000001 Mode= 1 Value= None\n",
      "LNode is smaller than 0.541508 Mode= 1 Value= None\n",
      "LNode is smaller than 0.3586205 Mode= 1 Value= None\n",
      "LNode is smaller than 0.501625 Mode= 1 Value= None\n",
      "==End== Value= 1 h= 5\n",
      "RNode is greater than 0.501625 Mode= 1 Value= None\n",
      "==End== Value= -1 h= 5\n",
      "RNode is greater than 0.3586205 Mode= 1 Value= None\n",
      "LNode is smaller than 0.26075149999999997 Mode= -1 Value= None\n",
      "==End== Value= 1 h= 5\n",
      "RNode is greater than 0.26075149999999997 Mode= -1 Value= None\n",
      "==End== Value= -1 h= 5\n",
      "RNode is greater than 0.541508 Mode= 1 Value= None\n",
      "LNode is smaller than 0.285925 Mode= 1 Value= None\n",
      "LNode is smaller than 0.26603849999999996 Mode= 1 Value= None\n",
      "==End== Value= 1 h= 5\n",
      "RNode is greater than 0.26603849999999996 Mode= 1 Value= None\n",
      "==End== Value= -1 h= 5\n",
      "RNode is greater than 0.285925 Mode= 1 Value= None\n",
      "==End== Value= 1 h= 4\n",
      "RNode is greater than 0.626233 Mode= -1 Value= None\n",
      "LNode is smaller than 0.8781715000000001 Mode= -1 Value= None\n",
      "==End== Value= -1 h= 2\n",
      "RNode is greater than 0.8781715000000001 Mode= -1 Value= None\n",
      "==End== Value= 1 h= 2\n"
     ]
    }
   ],
   "source": [
    "run_node(node0)"
   ]
  },
  {
   "cell_type": "code",
   "execution_count": null,
   "metadata": {},
   "outputs": [],
   "source": []
  }
 ],
 "metadata": {
  "kernelspec": {
   "display_name": "Python 3",
   "language": "python",
   "name": "python3"
  },
  "language_info": {
   "codemirror_mode": {
    "name": "ipython",
    "version": 3
   },
   "file_extension": ".py",
   "mimetype": "text/x-python",
   "name": "python",
   "nbconvert_exporter": "python",
   "pygments_lexer": "ipython3",
   "version": "3.6.5"
  }
 },
 "nbformat": 4,
 "nbformat_minor": 2
}
