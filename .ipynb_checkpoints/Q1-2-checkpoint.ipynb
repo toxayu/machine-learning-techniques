{
 "cells": [
  {
   "cell_type": "code",
   "execution_count": 15,
   "metadata": {},
   "outputs": [],
   "source": [
    "\n",
    "def subset_sum(numbers, target, partial=[]):\n",
    "    s = sum(partial)\n",
    "\n",
    "    # check if the partial sum is equals to target\n",
    "    if s == target: \n",
    "        \n",
    "        Subsets.append(partial)\n",
    "        \n",
    "    if s >= target:\n",
    "        return  # if we reach the number why bother to continue\n",
    "\n",
    "    for i in range(len(numbers)):\n",
    "        n = numbers[i]        \n",
    "        subset_sum(numbers, target, partial + [n]) "
   ]
  },
  {
   "cell_type": "code",
   "execution_count": 16,
   "metadata": {},
   "outputs": [],
   "source": [
    "Subsets = []\n",
    "subset_sum([f for f in range(3,37)],36)"
   ]
  },
  {
   "cell_type": "code",
   "execution_count": 17,
   "metadata": {},
   "outputs": [],
   "source": [
    "wsumL = []\n",
    "for subset in Subsets:\n",
    "    wsum = 0\n",
    "    for t in range(len(subset)):\n",
    "        if t == 0:\n",
    "            wsum += 10*subset[0]-10\n",
    "        else:\n",
    "            wsum += (subset[t-1])*(subset[t]-1)\n",
    "    wsumL.append(wsum+subset[-1])"
   ]
  },
  {
   "cell_type": "code",
   "execution_count": 18,
   "metadata": {},
   "outputs": [
    {
     "data": {
      "text/plain": [
       "510"
      ]
     },
     "execution_count": 18,
     "metadata": {},
     "output_type": "execute_result"
    }
   ],
   "source": [
    "max(wsumL)"
   ]
  },
  {
   "cell_type": "code",
   "execution_count": null,
   "metadata": {},
   "outputs": [],
   "source": []
  },
  {
   "cell_type": "code",
   "execution_count": null,
   "metadata": {},
   "outputs": [],
   "source": []
  }
 ],
 "metadata": {
  "kernelspec": {
   "display_name": "Python 3",
   "language": "python",
   "name": "python3"
  },
  "language_info": {
   "codemirror_mode": {
    "name": "ipython",
    "version": 3
   },
   "file_extension": ".py",
   "mimetype": "text/x-python",
   "name": "python",
   "nbconvert_exporter": "python",
   "pygments_lexer": "ipython3",
   "version": "3.6.5"
  }
 },
 "nbformat": 4,
 "nbformat_minor": 2
}
